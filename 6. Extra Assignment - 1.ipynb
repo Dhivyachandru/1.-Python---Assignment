{
 "cells": [
  {
   "cell_type": "code",
   "execution_count": 1,
   "id": "098a6f32",
   "metadata": {},
   "outputs": [
    {
     "name": "stdout",
     "output_type": "stream",
     "text": [
      "HOPE AI\n"
     ]
    }
   ],
   "source": [
    "print('HOPE AI')"
   ]
  },
  {
   "cell_type": "code",
   "execution_count": 4,
   "id": "e6645038",
   "metadata": {},
   "outputs": [
    {
     "name": "stdout",
     "output_type": "stream",
     "text": [
      "Enter your institute name? :HOPE AI\n"
     ]
    }
   ],
   "source": [
    "ins=input('Enter your institute name? :')"
   ]
  },
  {
   "cell_type": "code",
   "execution_count": 5,
   "id": "2b598a89",
   "metadata": {},
   "outputs": [
    {
     "name": "stdout",
     "output_type": "stream",
     "text": [
      "Enter your name:Raj\n",
      "Enter your age:15\n",
      "Enter your school name:Guru school\n",
      "Enter your drgree:B.E CSE\n"
     ]
    }
   ],
   "source": [
    "name=input('Enter your name:')\n",
    "age=input('Enter your age:')\n",
    "Schnam=input('Enter your school name:')\n",
    "deg=input('Enter your drgree:')"
   ]
  },
  {
   "cell_type": "code",
   "execution_count": 7,
   "id": "a9844a28",
   "metadata": {},
   "outputs": [
    {
     "name": "stdout",
     "output_type": "stream",
     "text": [
      "a= 43\n",
      "b= 34\n",
      "add = 77\n"
     ]
    }
   ],
   "source": [
    "a=43\n",
    "b=34\n",
    "print('a= 43')\n",
    "print('b= 34')\n",
    "print('add =',a+b)"
   ]
  },
  {
   "cell_type": "code",
   "execution_count": 9,
   "id": "3748d8d3",
   "metadata": {},
   "outputs": [
    {
     "name": "stdout",
     "output_type": "stream",
     "text": [
      "a= 43\n",
      "b= 34\n",
      "Sub = 9\n"
     ]
    }
   ],
   "source": [
    "a=43\n",
    "b=34\n",
    "print('a= 43')\n",
    "print('b= 34')\n",
    "print('Sub =',a-b)"
   ]
  },
  {
   "cell_type": "code",
   "execution_count": 10,
   "id": "330722ba",
   "metadata": {},
   "outputs": [
    {
     "name": "stdout",
     "output_type": "stream",
     "text": [
      "a= 63\n",
      "b= 97\n",
      "Mul = 6111\n"
     ]
    }
   ],
   "source": [
    "a=63\n",
    "b=97\n",
    "print('a= 63')\n",
    "print('b= 97')\n",
    "print('Mul =',a*b)"
   ]
  },
  {
   "cell_type": "code",
   "execution_count": 11,
   "id": "3c9597f5",
   "metadata": {},
   "outputs": [
    {
     "name": "stdout",
     "output_type": "stream",
     "text": [
      "a= 76\n",
      "b= 31\n",
      "Float Div = 2.4516129032258065\n"
     ]
    }
   ],
   "source": [
    "a=76\n",
    "b=31\n",
    "print('a= 76')\n",
    "print('b= 31')\n",
    "print('Float Div =',a/b)"
   ]
  },
  {
   "cell_type": "code",
   "execution_count": 12,
   "id": "e9d16ed5",
   "metadata": {},
   "outputs": [
    {
     "name": "stdout",
     "output_type": "stream",
     "text": [
      "a= 76\n",
      "b= 31\n",
      "Floor Div = 2\n"
     ]
    }
   ],
   "source": [
    "a=76\n",
    "b=31\n",
    "print('a= 76')\n",
    "print('b= 31')\n",
    "print('Floor Div =',a//b)"
   ]
  },
  {
   "cell_type": "code",
   "execution_count": 15,
   "id": "76b38133",
   "metadata": {},
   "outputs": [
    {
     "name": "stdout",
     "output_type": "stream",
     "text": [
      "a= 76\n",
      "b= 31\n",
      "Floor Div= 2\n"
     ]
    }
   ],
   "source": [
    "from math import floor\n",
    "a=76\n",
    "b=31\n",
    "print('a= 76')\n",
    "print('b= 31')\n",
    "print('Floor Div=', floor(a/b))"
   ]
  },
  {
   "cell_type": "code",
   "execution_count": 13,
   "id": "c15df29f",
   "metadata": {},
   "outputs": [
    {
     "name": "stdout",
     "output_type": "stream",
     "text": [
      "a= 76\n",
      "b= 31\n",
      "Modulo= 14\n"
     ]
    }
   ],
   "source": [
    "a=76\n",
    "b=31\n",
    "print('a= 76')\n",
    "print('b= 31')\n",
    "print('Modulo=',a%b)"
   ]
  },
  {
   "cell_type": "code",
   "execution_count": 19,
   "id": "4d299753",
   "metadata": {},
   "outputs": [
    {
     "name": "stdout",
     "output_type": "stream",
     "text": [
      "a= 4\n",
      "b= 4\n",
      "Power = 256\n"
     ]
    }
   ],
   "source": [
    "a=4\n",
    "b=4\n",
    "print('a=',a)\n",
    "print('b=',b)\n",
    "print('Power =',a**b)"
   ]
  }
 ],
 "metadata": {
  "kernelspec": {
   "display_name": "Python 3 (ipykernel)",
   "language": "python",
   "name": "python3"
  },
  "language_info": {
   "codemirror_mode": {
    "name": "ipython",
    "version": 3
   },
   "file_extension": ".py",
   "mimetype": "text/x-python",
   "name": "python",
   "nbconvert_exporter": "python",
   "pygments_lexer": "ipython3",
   "version": "3.9.12"
  }
 },
 "nbformat": 4,
 "nbformat_minor": 5
}
