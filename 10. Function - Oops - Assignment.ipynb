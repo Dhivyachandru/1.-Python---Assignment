{
 "cells": [
  {
   "cell_type": "code",
   "execution_count": null,
   "id": "d5df0133",
   "metadata": {},
   "outputs": [],
   "source": [
    "def subfields():\n",
    "    print('Subfields in AI are:\\nMachine Learning\\nNeutral Networks\\nVision\\nRobotics\\nSpeach Processing\\nNatural Language Processing')\n",
    "subfields()"
   ]
  },
  {
   "cell_type": "code",
   "execution_count": null,
   "id": "34c03b66",
   "metadata": {},
   "outputs": [],
   "source": [
    "print('Subfields in AI are:\\nMachine Learning\\nNeutral Networks\\nVision\\nRobotics\\nSpeach Processing\\nNatural Language Processing')"
   ]
  },
  {
   "cell_type": "code",
   "execution_count": 3,
   "id": "fe479bd5",
   "metadata": {},
   "outputs": [
    {
     "name": "stdout",
     "output_type": "stream",
     "text": [
      "Enter a number:2\n",
      "(2, 'is Even number')\n"
     ]
    }
   ],
   "source": [
    "def oddEven():\n",
    "    if(num%2==0):\n",
    "        message=num,\"is Even number\"\n",
    "    else:\n",
    "        message=num,'is Odd number'\n",
    "    return message\n",
    "num=int(input('Enter a number:'))\n",
    "odd=oddEven()\n",
    "print(odd)"
   ]
  },
  {
   "cell_type": "code",
   "execution_count": null,
   "id": "bc47fd9d",
   "metadata": {},
   "outputs": [],
   "source": [
    "def Elegible(age,agelimit):\n",
    "    if(age>=agelimit):\n",
    "        print('ELIGIBLE')\n",
    "    else:\n",
    "        print('NOT ELIGIBLE')\n",
    "        \n",
    "gen=input('Your Gender: ')\n",
    "age=int(input('Your Age: '))\n",
    "\n",
    "if(gen in (\"Female\",\"female\",'FEMALE')):\n",
    "    Elegible(age,18)\n",
    "elif(gen in (\"Male\",\"male\",'MALE')):\n",
    "    Elegible(age,21)\n",
    "else:\n",
    "    print('GENDER NOT IN CORRECT FORMAT: FEMALE/MALE,female/male,Female/Male')"
   ]
  },
  {
   "cell_type": "code",
   "execution_count": 1,
   "id": "fd7acd4d",
   "metadata": {},
   "outputs": [
    {
     "name": "stdout",
     "output_type": "stream",
     "text": [
      "Subject1=100\n",
      "Subject2=80\n",
      "Subject3=90\n",
      "Subject4=89\n",
      "Subject5=87\n",
      "Total: 446\n",
      "Percentage: 89.2\n"
     ]
    }
   ],
   "source": [
    "def percentage():\n",
    "    total=sub1+sub2+sub3+sub4+sub5\n",
    "    percentage=(total/500)*100\n",
    "    print(\"Total:\" ,total)\n",
    "    print(\"Percentage:\",percentage)\n",
    "sub1=int(input(\"Subject1=\"))\n",
    "sub2=int(input(\"Subject2=\"))\n",
    "sub3=int(input(\"Subject3=\"))\n",
    "sub4=int(input(\"Subject4=\"))\n",
    "sub5=int(input(\"Subject5=\"))\n",
    "percentage()"
   ]
  },
  {
   "cell_type": "code",
   "execution_count": 2,
   "id": "51d6f160",
   "metadata": {},
   "outputs": [
    {
     "name": "stdout",
     "output_type": "stream",
     "text": [
      "Height:23\n",
      "Breadth:43\n",
      "Height1:45\n",
      "Height2:67\n",
      "Breadth:78\n",
      "Area of Triangle:  494.5\n",
      "Perimeter of Triangle:  190\n"
     ]
    }
   ],
   "source": [
    "def triangle():\n",
    "    area=(height*breadth)/2\n",
    "    print(\"Area of Triangle: \",area)\n",
    "    perimeter=h1+h2+b\n",
    "    print(\"Perimeter of Triangle: \",perimeter)\n",
    "height=int(input(\"Height:\"))\n",
    "breadth=int(input(\"Breadth:\"))\n",
    "h1=int(input(\"Height1:\"))\n",
    "h2=int(input(\"Height2:\"))\n",
    "b=int(input(\"Breadth:\"))\n",
    "triangle()"
   ]
  },
  {
   "cell_type": "code",
   "execution_count": null,
   "id": "f19577d0",
   "metadata": {},
   "outputs": [],
   "source": []
  }
 ],
 "metadata": {
  "kernelspec": {
   "display_name": "Python 3 (ipykernel)",
   "language": "python",
   "name": "python3"
  },
  "language_info": {
   "codemirror_mode": {
    "name": "ipython",
    "version": 3
   },
   "file_extension": ".py",
   "mimetype": "text/x-python",
   "name": "python",
   "nbconvert_exporter": "python",
   "pygments_lexer": "ipython3",
   "version": "3.9.12"
  }
 },
 "nbformat": 4,
 "nbformat_minor": 5
}
