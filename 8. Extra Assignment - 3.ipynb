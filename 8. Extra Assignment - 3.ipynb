{
 "cells": [
  {
   "cell_type": "code",
   "execution_count": null,
   "id": "bc57a1c6",
   "metadata": {},
   "outputs": [],
   "source": [
    "i=int(input('value:'))\n",
    "if(i==10):\n",
    "          print('Correct')\n",
    "else:\n",
    "          print('Wrong')"
   ]
  },
  {
   "cell_type": "code",
   "execution_count": 3,
   "id": "7ad46d8e",
   "metadata": {},
   "outputs": [
    {
     "name": "stdout",
     "output_type": "stream",
     "text": [
      "Enter the password:HOPE@123\n",
      "Your password is correct\n"
     ]
    }
   ],
   "source": [
    "pwd=input(\"Enter the password:\")\n",
    "if(pwd==\"HOPE@123\"):\n",
    "    print('Your password is correct')\n",
    "else:\n",
    "    print('Your password is wrong')"
   ]
  },
  {
   "cell_type": "code",
   "execution_count": 11,
   "id": "38a6ecf9",
   "metadata": {},
   "outputs": [
    {
     "name": "stdout",
     "output_type": "stream",
     "text": [
      "age:20\n",
      "Adult\n"
     ]
    }
   ],
   "source": [
    "AGE=int(input('age:'))\n",
    "if(AGE<18):\n",
    "    print('Children')\n",
    "elif(AGE<35):\n",
    "    print('Adult')\n",
    "elif(AGE<59):\n",
    "    print('Citizen')\n",
    "else:\n",
    "    print('Senior Citizen')"
   ]
  },
  {
   "cell_type": "code",
   "execution_count": 15,
   "id": "97d72392",
   "metadata": {},
   "outputs": [
    {
     "name": "stdout",
     "output_type": "stream",
     "text": [
      "Enter any number:1\n",
      "No is positive\n"
     ]
    }
   ],
   "source": [
    "num=int(input('Enter any number:'))\n",
    "if(num>0):\n",
    "    print('No is positive')\n",
    "else:\n",
    "    print('No is negative')"
   ]
  },
  {
   "cell_type": "code",
   "execution_count": 17,
   "id": "0c292bf7",
   "metadata": {},
   "outputs": [
    {
     "name": "stdout",
     "output_type": "stream",
     "text": [
      "Enter a number to check:21\n",
      "No is not divisible by 5\n"
     ]
    }
   ],
   "source": [
    "num=int(input('Enter a number to check:'))\n",
    "if(num%5==0):\n",
    "    print('No is divisible by 5')\n",
    "else:\n",
    "    print('No is not divisible by 5')"
   ]
  }
 ],
 "metadata": {
  "kernelspec": {
   "display_name": "Python 3 (ipykernel)",
   "language": "python",
   "name": "python3"
  },
  "language_info": {
   "codemirror_mode": {
    "name": "ipython",
    "version": 3
   },
   "file_extension": ".py",
   "mimetype": "text/x-python",
   "name": "python",
   "nbconvert_exporter": "python",
   "pygments_lexer": "ipython3",
   "version": "3.9.12"
  }
 },
 "nbformat": 4,
 "nbformat_minor": 5
}
