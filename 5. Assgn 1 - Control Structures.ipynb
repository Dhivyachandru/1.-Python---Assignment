{
 "cells": [
  {
   "cell_type": "code",
   "execution_count": 1,
   "id": "b33ebdc4",
   "metadata": {},
   "outputs": [
    {
     "name": "stdout",
     "output_type": "stream",
     "text": [
      "Welcome to Assignment-1\n"
     ]
    }
   ],
   "source": [
    "print('Welcome to Assignment-1')"
   ]
  },
  {
   "cell_type": "code",
   "execution_count": 2,
   "id": "dafad699",
   "metadata": {},
   "outputs": [
    {
     "name": "stdout",
     "output_type": "stream",
     "text": [
      "Welcome to Assignment-1\n"
     ]
    }
   ],
   "source": [
    "print(\"Welcome to Assignment-1\")"
   ]
  },
  {
   "cell_type": "code",
   "execution_count": 3,
   "id": "a0da6ff4",
   "metadata": {},
   "outputs": [
    {
     "name": "stdout",
     "output_type": "stream",
     "text": [
      "Num1= 10\n",
      "Num2= 30\n",
      "Add= 40\n"
     ]
    }
   ],
   "source": [
    "print('Num1= 10')\n",
    "print('Num2= 30')\n",
    "print('Add= 40')"
   ]
  },
  {
   "cell_type": "code",
   "execution_count": 4,
   "id": "f258e51d",
   "metadata": {},
   "outputs": [
    {
     "name": "stdout",
     "output_type": "stream",
     "text": [
      "Num1= 10 Num2= 30 Add= 40\n"
     ]
    }
   ],
   "source": [
    "Num1=10\n",
    "Num2=30\n",
    "print('Num1=',Num1,\n",
    "'Num2=',30,'Add=',Num1+Num2)"
   ]
  },
  {
   "cell_type": "code",
   "execution_count": 5,
   "id": "94156d60",
   "metadata": {},
   "outputs": [
    {
     "name": "stdout",
     "output_type": "stream",
     "text": [
      "Num1= 10\n",
      "Num2= 30\n",
      "Add= 40\n"
     ]
    }
   ],
   "source": [
    "Num1=10\n",
    "Num2=30\n",
    "print('Num1=',Num1)\n",
    "print('Num2=',Num2)\n",
    "print('Add=',Num1+Num2)"
   ]
  },
  {
   "cell_type": "code",
   "execution_count": 13,
   "id": "7b94e269",
   "metadata": {},
   "outputs": [
    {
     "name": "stdout",
     "output_type": "stream",
     "text": [
      "Enter the BMI Index:34\n",
      "Very Overweight\n"
     ]
    }
   ],
   "source": [
    "BMI=int(input('Enter the BMI Index:'))\n",
    "if(BMI<16):\n",
    "    print('Severe Underweight')\n",
    "elif(BMI<18.5):\n",
    "    print('Underweight')\n",
    "elif(BMI<25):\n",
    "    print('Normal')\n",
    "elif(BMI<30):\n",
    "    print('Overweight')\n",
    "elif(BMI<35):\n",
    "    print('Very Overweight')\n",
    "else:\n",
    "    print('Obesity')"
   ]
  }
 ],
 "metadata": {
  "kernelspec": {
   "display_name": "Python 3 (ipykernel)",
   "language": "python",
   "name": "python3"
  },
  "language_info": {
   "codemirror_mode": {
    "name": "ipython",
    "version": 3
   },
   "file_extension": ".py",
   "mimetype": "text/x-python",
   "name": "python",
   "nbconvert_exporter": "python",
   "pygments_lexer": "ipython3",
   "version": "3.9.12"
  }
 },
 "nbformat": 4,
 "nbformat_minor": 5
}
