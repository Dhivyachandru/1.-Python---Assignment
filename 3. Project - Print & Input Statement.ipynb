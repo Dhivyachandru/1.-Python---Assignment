{
 "cells": [
  {
   "cell_type": "code",
   "execution_count": 10,
   "id": "cc63e884",
   "metadata": {},
   "outputs": [
    {
     "name": "stdout",
     "output_type": "stream",
     "text": [
      "CANDIATE BASIC DETAILS\n",
      "NAME:Dhivya C\n",
      "ADDRESS:Chennai\n",
      "CONTACT NO:900000000\n",
      "DOB:10.00.0000\n",
      "QUALIFICATION:Bcom, MCA\n",
      "PREVIOUS CONCERN NAME & POSITION 1 :Excel, Account Assistance\n",
      "PREVIOUS CONCERN EXPERIENCE 1:1\n",
      "PREVIOUS CONCERN NAME & POSITION 2:Excel, Accountant\n",
      "PREVIOUS CONCERN EXPERIENCE 2:3\n",
      "PREVIOUS CONCERN NAME & POSITION 3:Excel, Asst Manager - Finance\n",
      "PREVIOUS CONCERN EXPERIENCE 3:4\n",
      "TOTAL YEAR EXPERIENCE: 8\n"
     ]
    }
   ],
   "source": [
    "print('CANDIATE BASIC DETAILS')\n",
    "name=input('NAME:')\n",
    "Add=input('ADDRESS:')\n",
    "con=input('CONTACT NO:')\n",
    "dob=input('DOB:')\n",
    "qua=input('QUALIFICATION:')\n",
    "exp1=input('PREVIOUS CONCERN NAME & POSITION 1 :')\n",
    "expyear1=int(input('PREVIOUS CONCERN EXPERIENCE 1:'))\n",
    "exp2=input('PREVIOUS CONCERN NAME & POSITION 2:')\n",
    "expyear2=int(input('PREVIOUS CONCERN EXPERIENCE 2:'))\n",
    "exp3=input('PREVIOUS CONCERN NAME & POSITION 3:')\n",
    "expyear3=int(input('PREVIOUS CONCERN EXPERIENCE 3:'))\n",
    "tot=expyear1+expyear2+expyear3\n",
    "print(\"TOTAL YEAR EXPERIENCE:\",tot)\n"
   ]
  },
  {
   "cell_type": "code",
   "execution_count": null,
   "id": "1214e627",
   "metadata": {},
   "outputs": [],
   "source": []
  }
 ],
 "metadata": {
  "kernelspec": {
   "display_name": "Python 3 (ipykernel)",
   "language": "python",
   "name": "python3"
  },
  "language_info": {
   "codemirror_mode": {
    "name": "ipython",
    "version": 3
   },
   "file_extension": ".py",
   "mimetype": "text/x-python",
   "name": "python",
   "nbconvert_exporter": "python",
   "pygments_lexer": "ipython3",
   "version": "3.9.12"
  }
 },
 "nbformat": 4,
 "nbformat_minor": 5
}
